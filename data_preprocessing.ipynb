{
 "cells": [
  {
   "cell_type": "code",
   "execution_count": null,
   "metadata": {},
   "outputs": [
    {
     "name": "stdout",
     "output_type": "stream",
     "text": [
      "CSV généré: bounding_boxes.csv\n"
     ]
    }
   ],
   "source": [
    "import os\n",
    "import cv2\n",
    "import csv\n",
    "import numpy as np\n",
    "\n",
    "# Dossier contenant les images PNG\n",
    "input_folder = \"sequences-train\"\n",
    "output_csv = \"bounding_boxes.csv\"\n",
    "\n",
    "def get_bounding_box(image_path):\n",
    "    \"\"\"Retourne la bounding box du masque blanc sur fond noir.\"\"\"\n",
    "    image = cv2.imread(image_path, cv2.IMREAD_GRAYSCALE)  # Charger en niveaux de gris\n",
    "    _, thresh = cv2.threshold(image, 127, 255, cv2.THRESH_BINARY)  # Seuillage\n",
    "    contours, _ = cv2.findContours(thresh, cv2.RETR_EXTERNAL, cv2.CHAIN_APPROX_SIMPLE)  # Trouver les contours\n",
    "\n",
    "    if not contours:\n",
    "        return None  # Aucun objet détecté\n",
    "\n",
    "    x_min, y_min, w, h = cv2.boundingRect(max(contours, key=cv2.contourArea))  # Plus grand contour\n",
    "    x_max, y_max = x_min + w, y_min + h\n",
    "\n",
    "    return (x_min, y_min, x_max, y_max)\n",
    "\n",
    "# Lire toutes les images du dossier et extraire les bounding boxes\n",
    "data = []\n",
    "for filename in sorted(os.listdir(input_folder)):  # Trier pour consistance\n",
    "    if filename.endswith(\".png\"):\n",
    "        image_path = os.path.join(input_folder, filename)\n",
    "        bbox = get_bounding_box(image_path)\n",
    "        if bbox:\n",
    "            data.append([filename, bbox])\n",
    "\n",
    "# Sauvegarde dans un CSV\n",
    "with open(output_csv, \"w\", newline=\"\") as f:\n",
    "    writer = csv.writer(f)\n",
    "    for row in data:\n",
    "        writer.writerow(row)\n",
    "\n",
    "print(f\"CSV généré: {output_csv}\")\n"
   ]
  },
  {
   "cell_type": "code",
   "execution_count": null,
   "metadata": {},
   "outputs": [],
   "source": [
    "\n",
    "def display_first_image_with_bbox():\n",
    "    \"\"\"Affiche la première image avec sa bounding box.\"\"\"\n",
    "    for filename in sorted(os.listdir(input_folder)):  # Trier pour consistance\n",
    "        if filename.endswith(\".png\"):\n",
    "            image_path = os.path.join(input_folder, filename)\n",
    "            bbox = get_bounding_box(image_path)\n",
    "            if bbox:\n",
    "                image = cv2.imread(image_path)  # Charger en couleur pour affichage\n",
    "                x_min, y_min, x_max, y_max = bbox\n",
    "                cv2.rectangle(image, (x_min, y_min), (x_max, y_max), (0, 255, 0), 2)  # Dessiner la BBox\n",
    "                cv2.imshow(f\"Bounding Box - {filename}\", image)\n",
    "                cv2.waitKey(0)\n",
    "                cv2.destroyAllWindows()\n",
    "                break \n",
    "\n",
    "display_first_image_with_bbox()\n"
   ]
  }
 ],
 "metadata": {
  "kernelspec": {
   "display_name": "Python 3",
   "language": "python",
   "name": "python3"
  },
  "language_info": {
   "codemirror_mode": {
    "name": "ipython",
    "version": 3
   },
   "file_extension": ".py",
   "mimetype": "text/x-python",
   "name": "python",
   "nbconvert_exporter": "python",
   "pygments_lexer": "ipython3",
   "version": "3.8.10"
  }
 },
 "nbformat": 4,
 "nbformat_minor": 2
}
